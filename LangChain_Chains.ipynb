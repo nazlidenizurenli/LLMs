{
  "cells": [
    {
      "cell_type": "code",
      "execution_count": null,
      "metadata": {
        "colab": {
          "base_uri": "https://localhost:8080/"
        },
        "id": "cgBt6vtBomf5",
        "outputId": "a457639f-f4c9-49f9-8c88-b91b04afd23e"
      },
      "outputs": [
        {
          "data": {
            "text/plain": [
              "{'item': 'Adidas Samba', 'text': 'Athleisure'}"
            ]
          },
          "execution_count": 4,
          "metadata": {},
          "output_type": "execute_result"
        }
      ],
      "source": [
        "from langchain.chat_models import ChatOpenAI\n",
        "from langchain.prompts import ChatPromptTemplate\n",
        "from langchain.chains import LLMChain\n",
        "import os\n",
        "import openai\n",
        "\n",
        "api_key = os.getenv('OPENAI_API_KEY')\n",
        "\n",
        "if not api_key:\n",
        "  raise ValueError(\"OpenAI API key not found\")\n",
        "client = openai.OpenAI(api_key=api_key)\n",
        "models = client.models.list()\n",
        "# print(\"Available models for current user are: \")\n",
        "# for model in models:\n",
        "#   print(model.id)\n",
        "\n",
        "model = \"gpt-4\"\n",
        "llm = ChatOpenAI(temperature=0.9, model=model, openai_api_key=api_key)\n",
        "firstprompt = \"What is the name of the fashion trend the following item belongs to: {item}\"\n",
        "prompt_template = ChatPromptTemplate.from_template(firstprompt)\n",
        "\n",
        "chain = LLMChain(llm=llm, prompt=prompt_template)\n",
        "chain.invoke(\"Jeans\")\n",
        "chain.invoke(\"Infinity Scarfs\")\n",
        "chain.invoke(\"Adidas Samba\")"
      ]
    },
    {
      "cell_type": "code",
      "execution_count": 5,
      "metadata": {
        "id": "wnNOK5HepzYy"
      },
      "outputs": [],
      "source": [
        "from langchain.chains import SimpleSequentialChain"
      ]
    },
    {
      "cell_type": "code",
      "execution_count": 6,
      "metadata": {
        "id": "PeenGb9DstYV"
      },
      "outputs": [],
      "source": [
        "llm = ChatOpenAI(temperature=0.9, model=model, openai_api_key=api_key)\n"
      ]
    },
    {
      "cell_type": "code",
      "execution_count": 7,
      "metadata": {
        "colab": {
          "base_uri": "https://localhost:8080/"
        },
        "id": "T_swJ5mNsuaN",
        "outputId": "953170a0-ecd4-4ec1-a39d-60e1d89257be"
      },
      "outputs": [],
      "source": [
        "first_prompt = ChatPromptTemplate.from_template(\n",
        "    \"What is the best name to describe \\\n",
        "    a company that makes {product}?\"\n",
        ")\n",
        "\n",
        "chain_one = LLMChain(llm=llm, prompt=first_prompt)"
      ]
    },
    {
      "cell_type": "code",
      "execution_count": 8,
      "metadata": {
        "id": "XqWiOo6ms-Pi"
      },
      "outputs": [],
      "source": [
        "second_prompt = ChatPromptTemplate.from_template(\n",
        "    \"Write a 20 words description for the following \\\n",
        "    company:{company_name}\"\n",
        ")\n",
        "# chain 2\n",
        "chain_two = LLMChain(llm=llm, prompt=second_prompt)"
      ]
    },
    {
      "cell_type": "code",
      "execution_count": 9,
      "metadata": {
        "id": "r4DWwvA9tAV-"
      },
      "outputs": [],
      "source": [
        "overall_simple_chain = SimpleSequentialChain(chains=[chain_one, chain_two],\n",
        "                                             verbose=True\n",
        "                                            )"
      ]
    },
    {
      "cell_type": "code",
      "execution_count": 10,
      "metadata": {
        "colab": {
          "base_uri": "https://localhost:8080/",
          "height": 157
        },
        "id": "mN_OBpT-tEwO",
        "outputId": "76c4223a-27ad-49b2-e845-317a29e05f75"
      },
      "outputs": [
        {
          "name": "stderr",
          "output_type": "stream",
          "text": [
            "/tmp/ipykernel_14742/2591739419.py:2: LangChainDeprecationWarning: The method `Chain.run` was deprecated in langchain 0.1.0 and will be removed in 1.0. Use :meth:`~invoke` instead.\n",
            "  overall_simple_chain.run(product)\n"
          ]
        },
        {
          "name": "stdout",
          "output_type": "stream",
          "text": [
            "\n",
            "\n",
            "\u001b[1m> Entering new SimpleSequentialChain chain...\u001b[0m\n",
            "\u001b[36;1m\u001b[1;3mFPGA Manufacturing Company\u001b[0m\n",
            "\u001b[33;1m\u001b[1;3mFPGA Manufacturing Company specializes in producing field-programmable gate arrays, providing customers with flexible, customizable integrated circuit solutions.\u001b[0m\n",
            "\n",
            "\u001b[1m> Finished chain.\u001b[0m\n"
          ]
        },
        {
          "data": {
            "text/plain": [
              "'FPGA Manufacturing Company specializes in producing field-programmable gate arrays, providing customers with flexible, customizable integrated circuit solutions.'"
            ]
          },
          "execution_count": 10,
          "metadata": {},
          "output_type": "execute_result"
        }
      ],
      "source": [
        "product = \"FPGAs\"\n",
        "overall_simple_chain.run(product)"
      ]
    },
    {
      "cell_type": "code",
      "execution_count": 11,
      "metadata": {
        "id": "ETXzyGTptTPR"
      },
      "outputs": [],
      "source": [
        "from langchain.chains import SequentialChain"
      ]
    },
    {
      "cell_type": "code",
      "execution_count": 12,
      "metadata": {
        "id": "9JINuyOctj2G"
      },
      "outputs": [],
      "source": [
        "llm = ChatOpenAI(temperature=0.9, model=model, openai_api_key=api_key)\n"
      ]
    }
  ],
  "metadata": {
    "colab": {
      "provenance": []
    },
    "kernelspec": {
      "display_name": "llm_venv",
      "language": "python",
      "name": "python3"
    },
    "language_info": {
      "codemirror_mode": {
        "name": "ipython",
        "version": 3
      },
      "file_extension": ".py",
      "mimetype": "text/x-python",
      "name": "python",
      "nbconvert_exporter": "python",
      "pygments_lexer": "ipython3",
      "version": "3.11.2"
    }
  },
  "nbformat": 4,
  "nbformat_minor": 0
}
